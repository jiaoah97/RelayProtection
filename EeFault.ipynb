{
 "cells": [
  {
   "cell_type": "code",
   "execution_count": 1,
   "metadata": {},
   "outputs": [],
   "source": [
    "import warnings\n",
    "import numpy as np\n",
    "import matplotlib\n",
    "import matplotlib.pyplot as plt\n",
    "import time\n",
    "import psutil\n",
    "warnings.filterwarnings('ignore') #关闭警告信息\n",
    "#在notebook中显示动态图像\n",
    "%matplotlib notebook"
   ]
  },
  {
   "cell_type": "code",
   "execution_count": 2,
   "metadata": {},
   "outputs": [],
   "source": [
    "Uf_effVal = 35. #故障时相电压有效值\n",
    "U2f_effVal =10.\n",
    "U3f_effVal =5.\n",
    "knum = 5 #\n",
    "If_effVal = 10\n",
    "I2f_effVal =1\n",
    "f = 50 #基频\n",
    "fs = 1200 #采样频率\n",
    "ts = 1.0/fs #采样时间\n",
    "omega = 2*np.pi*f #基频 角频率\n",
    "alpha = 0 #A相电压初相角 弧度值\n",
    "Ialpha = alpha-10*np.pi/180\n",
    "beta = 2*np.pi/3 #B相 初相角\n",
    "theta = -2*np.pi/3 #C相 初相角\n",
    "N = 24 # 每20ms采样个数（1200hz采样对对应24个点）"
   ]
  },
  {
   "cell_type": "code",
   "execution_count": 3,
   "metadata": {},
   "outputs": [],
   "source": [
    "class FIR():\n",
    "    def __init__(self):\n",
    "        return\n",
    "    \n",
    "    def FreResponse(self):\n",
    "        \n",
    "        fig,ax1 = plt.subplots(figsize=(12,4))\n",
    "        \n",
    "        f1 = [1,0,0,0,0,0,-1]\n",
    "        f2 = [1,1,1,1,1,1,1,1]\n",
    "        f3 = [1,1,1,1,1,1,1,1,1,1]\n",
    "        f4 = np.convolve(f1,f2)\n",
    "        f = np.convolve(f4,f3)\n",
    "        w,h = signal.freqz(f,worN=np.linspace(0,np.pi,1000))\n",
    "        ax1.plot(1200*w/2/np.pi,(np.abs(h)),'b')\n",
    "        ax1.grid()\n",
    "        plt.show()\n",
    "        return\n",
    "\n",
    "    def Casca3FIR(self,samPoints):\n",
    "\n",
    "        N1 = 6#\n",
    "        N2 = 7#\n",
    "        N3 = 9\n",
    "        y1 = []\n",
    "        y2 = []\n",
    "        y = []\n",
    "        for index in np.arange(0,len(samPoints)):\n",
    "            if index >= N1:\n",
    "                y1.append(samPoints[index]-samPoints[index-N1])\n",
    "                if len(y1) >= (N2+1):\n",
    "                    y2.append(sum(y1[-N2-1:]))\n",
    "                    if len(y2) >= (N3+1):\n",
    "                        y.append(sum(y2[-N3-1:]))\n",
    "        yBase = np.array(y)/69.5\n",
    "        return yBase"
   ]
  },
  {
   "cell_type": "code",
   "execution_count": 21,
   "metadata": {},
   "outputs": [],
   "source": [
    "class EeFault(): \n",
    "    \"\"\"\n",
    "    由于发生故障时，采样得到的量并部满足正弦稳态情况\n",
    "    因此 采用全波傅氏算法计算故障时基波的 实部 和 虚部\n",
    "    值得注意的是，傅立叶算法同样是在计算 稳态正弦量\n",
    "    也就是说，所求得的每一个复数是该频率下的 实部和虚部\n",
    "    因此，当存在直流衰减分量时，该算法有极大误差，需要配合FIR滤波器（一阶差分）\n",
    "    \"\"\"\n",
    "    def __init__(self):\n",
    "        return\n",
    "    \n",
    "    def testPlot(self,x,y,type=1):\n",
    "        #init plot\n",
    "        self.fig = plt.figure()\n",
    "        self.ax =self.fig.add_subplot(111)\n",
    "        self.ax.set_autoscaley_on(True)\n",
    "        self.ax.grid()\n",
    "        if type == 1:\n",
    "            #line\n",
    "            self.ax.plot(x,y,color='b')\n",
    "            self.ax.relim()\n",
    "            self.ax.autoscale_view()\n",
    "            self.ax.set_ylim(-600,800)\n",
    "            self.fig.canvas.draw()\n",
    "        elif type == 2:\n",
    "            self.ax.bar(x,y,1.8,color='b')\n",
    "            self.fig.canvas.draw()\n",
    "            \n",
    "    def FaultSam(self):\n",
    "        \"\"\"\n",
    "        模拟故障时采样得到的值\n",
    "        \"\"\"\n",
    "        uFault_sam = [] #电压采样值\n",
    "        iFault_sam = [] #电流采样值\n",
    "        tdata = [] #采样时间点\n",
    "        for item,t in enumerate(np.arange(0,0.3,ts)):\n",
    "            tdata.append(t)\n",
    "            #叠加了不同频率的电压采样值\n",
    "            sampTmpU = 5000*np.exp(-50*t) + \\\n",
    "                      Uf_effVal*np.sin(omega*t+alpha) + \\\n",
    "                      U2f_effVal*np.sin(2*omega*t+alpha+np.pi/3) + \\\n",
    "                      U3f_effVal*np.sin(3*omega*t+alpha+np.pi/2)\n",
    "            #叠加了不同频率的电流采样值\n",
    "            sampTmpI = 10 + \\\n",
    "                      1.414*If_effVal*np.sin(omega*t+Ialpha) + \\\n",
    "                      1.414*I2f_effVal*np.sin(2*omega*t+Ialpha-np.pi/3) \n",
    "            #每一个时刻t采样保存一个值         \n",
    "            uFault_sam.append(sampTmpU) \n",
    "            iFault_sam.append(sampTmpI)\n",
    "            \n",
    "        self.testPlot(tdata,uFault_sam)\n",
    "        return (tdata,uFault_sam,iFault_sam)\n",
    "    \n",
    "    def DealData(self,Npoints,type=1):\n",
    "        \n",
    "        kthFreq = np.arange(knum) # 需要计算的 频率个数\n",
    "        Re = [0 for i in range(knum)] #用于存放不同频率下的 实部\n",
    "        Img = [0 for i in range(knum)] #用于存放不同频率下的 实虚部\n",
    "        Nsum = np.sum(Npoints[:N])\n",
    "        N_evensum = np.sum([Npoints[even_index] for even_index in np.arange(N) if (even_index)%2==0])\n",
    "        N_oddsum = Nsum-N_evensum\n",
    "        if type == 1:\n",
    "            #采用外循环为每一个点 内循环为每一中频率\n",
    "            #为要模拟 采样的过程 即采样是一个点一点点得到的\n",
    "            for index in np.arange(N):\n",
    "                for k in kthFreq:\n",
    "                    #采样得到一个点后 对所有谐波分量进行计算\n",
    "                    Re[k] += (Npoints[index]*np.sin(k*index*2*np.pi/N))*2/N #用滤波后的值进行计算基频分量\n",
    "                    Img[k] += (Npoints[index]*np.cos(k*index*2*np.pi/N))*2/N #如果想要观察滤波前，可将Yfilter替换为samPoint\n",
    "\n",
    "            #将每一个谐波分量组合成复数\n",
    "        elif type == 2:\n",
    "            \n",
    "            for k in kthFreq:\n",
    "                for index in np.arange(N):\n",
    "                    \n",
    "                    Re[k] += (Npoints[index]*np.sin(k*index*2*np.pi/N))*2/N \n",
    "                    Img[k] += (Npoints[index]*np.cos(k*index*2*np.pi/N))*2/N\n",
    "                \n",
    "                B = N_oddsum/N_evensum\n",
    "                A = (1-B)*Nsum\n",
    "                fenziRe = 2*A*B*np.sin(k*2*np.pi/N)\n",
    "                fenziImg = 2*A*(1-B*np.cos(k*2*np.pi/N))\n",
    "                fenmu = (1-2*B*np.cos(k*2*np.pi/N)+np.power(B,2))*N\n",
    "                deltaRe = fenziRe/fenmu\n",
    "                deltaImg = fenziImg/fenmu\n",
    "                Re[k] = Re[k] - deltaRe\n",
    "                Img[k] = Img[k] - deltaImg\n",
    "            \n",
    "            \"\"\"\n",
    "            fenziRe = 2*A*B*np.sin(kindex*2*np.pi/N)\n",
    "                fenziImg = 2*A*(1-B*np.cos(kindex*2*np.pi/N))\n",
    "                fenmu = (1-2*B*np.cos(kindex*2*np.pi/N)+np.power(B,2))*N\n",
    "                deltaRe = fenziRe/fenmu\n",
    "                deltaImg = fenziImg/fenmu\n",
    "                Re[kindex] = Re[kindex] - deltaRe\n",
    "                Img[kindex] = Img[kindex] -deltaImg\n",
    "            \n",
    "            \"\"\"\n",
    "                \n",
    "            \n",
    "        \n",
    "        return (Re,Img)\n",
    "    \n",
    "    def FullFourier(self,samPoint):\n",
    "        \"\"\"\n",
    "        全波傅氏算法的核心\n",
    "                   N-1\n",
    "              2    ----\n",
    "       Urk = --- * \\\n",
    "              N    /    u(i)*sin(ki*2pi/N)   \n",
    "                   ----\n",
    "                   i=0\n",
    "                   \n",
    "                   N-1\n",
    "              2    ----\n",
    "       Uik = --- * \\\n",
    "              N    /    u(i)*sin(ki*2pi/N)\n",
    "                   ----\n",
    "                   i=0\n",
    "        k：k次谐波\n",
    "        i：第i个时刻\n",
    "        u(i)：第i个采样点\n",
    "        N：一个周期的采样个数\n",
    "        Urk：第k次谐波的 实部\n",
    "        Uik：第k次谐波的 虚部\n",
    "        \"\"\"        \n",
    "          \n",
    "        knFreqReIm = [] #其内每一个值对应着 该频率下 正弦量的 复数形式 \n",
    "        \n",
    "        \n",
    "        #调用滤波函数\n",
    "        Fir = FIR() \n",
    "        #给定2N个采样值 前N个用于滤波 得到Yfilter大约是N个点\n",
    "        Yfilter = Fir.Casca3FIR(samPoint[:2*N])\n",
    "        \n",
    "        (Re,Img) = self.DealData(samPoint,type=2)\n",
    "        \n",
    "        for re,imag in zip(Re,Img):\n",
    "            knFreqReIm.append(np.complex(re,imag))\n",
    "        \n",
    "        return knFreqReIm\n",
    "    \n",
    "    def FaultSamReIm(self):\n",
    "        \"\"\"\n",
    "        计算故障时 采样值中 不同频率下 正弦量的 实部和虚部\n",
    "        有了故障时刻得到的 基频分量的 复数形式 \n",
    "        接下来就可以进行 各种保护的 动作判据计算\n",
    "        \"\"\"\n",
    "        #获得采样值\n",
    "        (tdata,uFault_sam,iFault_sam) = self.FaultSam() #\n",
    "        #求采样值中 不同频率 电压正弦量的 复数形式 该复数的模值为正弦量的 最大值\n",
    "        UfnReIm = self.FullFourier(uFault_sam)\n",
    "        #求采样值中 不同频率 电流正弦量的 复数形式\n",
    "        IfnReIm = self.FullFourier(iFault_sam)\n",
    "        \n",
    "        x = (np.arange(knum))*f\n",
    "        y = np.abs(UfnReIm)\n",
    "        self.testPlot(x,y,type=2)\n",
    "        \n",
    "        return (UfnReIm,IfnReIm)\n",
    "    \n",
    "    def FaultImped(self,u,i):\n",
    "        \"\"\"\n",
    "        通过给定故障时计算得到的 电压和电流的复数，求故障时的阻抗\n",
    "            Ur*Ir+Ui*Ii\n",
    "        R = -----------\n",
    "             Ir^2+Ii^2\n",
    "             \n",
    "            Ui*Ir-Ur*Ii\n",
    "        Q = -----------\n",
    "             Ir^2+Ii^2\n",
    "        \"\"\"\n",
    "        #阻抗\n",
    "        Resis = (u.real*i.real+u.imag*i.imag)/(np.power(i.real,2)+np.power(i.imag,2))\n",
    "        React = (u.imag*i.real-u.real*i.imag)/(np.power(i.real,2)+np.power(i.imag,2))\n",
    "        imped = np.complex(Resis,React)\n",
    "        return imped\n",
    "    \n",
    "    def DistancePro(self):\n",
    "        \"\"\"\n",
    "        距离保护\n",
    "        \"\"\"\n",
    "        #计算故障时不同频率正弦量的 复数形式\n",
    "        UfnReIm,IfnReIm = self.FaultSamReIm()\n",
    "        #计算故障时的基频分量阻抗值\n",
    "        FaultImped = self.FaultImped(UfnReIm[1],IfnReIm[1])\n",
    "        \n",
    "        return"
   ]
  },
  {
   "cell_type": "code",
   "execution_count": 22,
   "metadata": {},
   "outputs": [],
   "source": [
    "obj = EeFault()"
   ]
  },
  {
   "cell_type": "code",
   "execution_count": 23,
   "metadata": {},
   "outputs": [
    {
     "data": {
      "image/png": "[encoded data removed]",
      "text/plain": [
       "<Figure size 432x288 with 1 Axes>"
      ]
     },
     "metadata": {
      "needs_background": "light"
     },
     "output_type": "display_data"
    },
    {
     "data": {
      "image/png": "[encoded data removed]",
      "text/plain": [
       "<Figure size 432x288 with 1 Axes>"
      ]
     },
     "metadata": {
      "needs_background": "light"
     },
     "output_type": "display_data"
    }
   ],
   "source": [
    "x = obj.FaultSamReIm()\n",
    "#x = obj.FaultSam()"
   ]
  },
  {
   "cell_type": "code",
   "execution_count": 24,
   "metadata": {},
   "outputs": [
    {
     "data": {
      "text/plain": [
       "127.00000000000614"
      ]
     },
     "execution_count": 24,
     "metadata": {},
     "output_type": "execute_result"
    }
   ],
   "source": [
    "abs(x[0][1])"
   ]
  },
  {
   "cell_type": "code",
   "execution_count": null,
   "metadata": {},
   "outputs": [],
   "source": []
  },
  {
   "cell_type": "code",
   "execution_count": null,
   "metadata": {},
   "outputs": [],
   "source": [
    "(34+1)%2 ==1"
   ]
  },
  {
   "cell_type": "code",
   "execution_count": null,
   "metadata": {},
   "outputs": [],
   "source": [
    "127*1.414"
   ]
  },
  {
   "cell_type": "code",
   "execution_count": null,
   "metadata": {},
   "outputs": [],
   "source": [
    "60*1.414"
   ]
  },
  {
   "cell_type": "code",
   "execution_count": null,
   "metadata": {},
   "outputs": [],
   "source": [
    "np.sum([1.,2.])"
   ]
  },
  {
   "cell_type": "code",
   "execution_count": null,
   "metadata": {},
   "outputs": [],
   "source": [
    "[odd_index for odd_index in np.arange(N) if (odd_index+1)%2==1]"
   ]
  },
  {
   "cell_type": "code",
   "execution_count": null,
   "metadata": {},
   "outputs": [],
   "source": []
  },
  {
   "cell_type": "code",
   "execution_count": null,
   "metadata": {},
   "outputs": [],
   "source": []
  },
  {
   "cell_type": "code",
   "execution_count": null,
   "metadata": {},
   "outputs": [],
   "source": [
    "0%2"
   ]
  },
  {
   "cell_type": "code",
   "execution_count": null,
   "metadata": {},
   "outputs": [],
   "source": []
  },
  {
   "cell_type": "code",
   "execution_count": null,
   "metadata": {},
   "outputs": [],
   "source": []
  },
  {
   "cell_type": "code",
   "execution_count": null,
   "metadata": {},
   "outputs": [],
   "source": [
    "tdata = []\n",
    "uFault_sam = []\n",
    "for item,t in enumerate(np.arange(0,0.3,ts)):\n",
    "    tdata.append(t)\n",
    "    #叠加了不同频率的电压采样值\n",
    "    sampTmpU = 10*np.exp(-50*t) #+ \\\n",
    "              #1.414*Uf_effVal*np.sin(omega*t+alpha) + \\\n",
    "              #1.414*U2f_effVal*np.sin(2*omega*t+alpha+np.pi/3) + \\\n",
    "              #1.414*U3f_effVal*np.sin(3*omega*t+alpha+np.pi/2)\n",
    "   \n",
    "    #每一个时刻t采样保存一个值         \n",
    "    uFault_sam.append(sampTmpU) \n",
    "  \n",
    "            \n",
    "plt.figure(figsize=(8,4))\n",
    "plt.plot(tdata,uFault_sam)\n",
    "plt.show()"
   ]
  }
 ],
 "metadata": {
  "kernelspec": {
   "display_name": "Python 3",
   "language": "python",
   "name": "python3"
  },
  "language_info": {
   "codemirror_mode": {
    "name": "ipython",
    "version": 3
   },
   "file_extension": ".py",
   "mimetype": "text/x-python",
   "name": "python",
   "nbconvert_exporter": "python",
   "pygments_lexer": "ipython3",
   "version": "3.7.0"
  }
 },
 "nbformat": 4,
 "nbformat_minor": 2
}
